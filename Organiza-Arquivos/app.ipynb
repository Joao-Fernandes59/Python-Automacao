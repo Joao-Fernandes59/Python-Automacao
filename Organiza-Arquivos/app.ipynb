{
 "cells": [
  {
   "cell_type": "markdown",
   "metadata": {},
   "source": [
    "Automação em Python"
   ]
  },
  {
   "cell_type": "markdown",
   "metadata": {},
   "source": [
    "Organizador de Diretorios e Arquivos"
   ]
  },
  {
   "cell_type": "code",
   "execution_count": 1,
   "metadata": {},
   "outputs": [],
   "source": [
    "import os\n",
    "import shutil"
   ]
  },
  {
   "cell_type": "markdown",
   "metadata": {},
   "source": [
    "Criar uma funcao que organiza os arquivos e diretorios"
   ]
  },
  {
   "cell_type": "code",
   "execution_count": 43,
   "metadata": {},
   "outputs": [],
   "source": [
    "def organizar_arquivos(caminho):\n",
    "    extensoes_pastas = {\n",
    "        '.pdf': 'Documentos',\n",
    "        '.jpg': 'Imagens',\n",
    "        '.jpeg': 'Imagens',\n",
    "        '.png': 'Imagens',\n",
    "        '.doc': 'Documentos',\n",
    "        '.docx': 'Documentos',\n",
    "        '.txt': 'Documentos',\n",
    "        '.xls': 'Documentos',\n",
    "        '.mp4': 'Videos',\n",
    "        '.xlsx': 'Documentos'\n",
    "    }\n",
    "\n",
    "    #Criar estutura de pastas\n",
    "    for pasta in set(extensoes_pastas.values()):\n",
    "        caminho_pasta = os.path.join(caminho,pasta)\n",
    "        if not os.path.exists(caminho_pasta):\n",
    "            os.makedirs(caminho_pasta)\n",
    "\n",
    "    #Organizar Arquivos e Dir\n",
    "    for arquivo in os.listdir(caminho):\n",
    "        if os.path.isdir(os.path.join(arquivo)):\n",
    "            continue\n",
    "\n",
    "        # Obter a Extensao do Arquivo\n",
    "        nome, extensao = os.path.splitext(arquivo)\n",
    "        extensao.lower()\n",
    "\n",
    "        # Mover arquivos para pastas correspondentes\n",
    "        if extensao in extensoes_pastas:\n",
    "            pasta_destino = extensoes_pastas[extensao]\n",
    "            origem = os.path.join(caminho,arquivo)\n",
    "            destino = os.path.join(caminho, pasta_destino, arquivo)\n",
    "            shutil.move(origem,destino)\n",
    "            print(f\"Arquivo {arquivo} movido para {pasta_destino}\")\n",
    "\n",
    "\n"
   ]
  },
  {
   "cell_type": "markdown",
   "metadata": {},
   "source": [
    "Criar a parte main"
   ]
  },
  {
   "cell_type": "code",
   "execution_count": 44,
   "metadata": {},
   "outputs": [],
   "source": [
    "diretorio = os.getcwd()\n",
    "organizar_arquivos(diretorio)"
   ]
  }
 ],
 "metadata": {
  "kernelspec": {
   "display_name": "Python 3",
   "language": "python",
   "name": "python3"
  },
  "language_info": {
   "codemirror_mode": {
    "name": "ipython",
    "version": 3
   },
   "file_extension": ".py",
   "mimetype": "text/x-python",
   "name": "python",
   "nbconvert_exporter": "python",
   "pygments_lexer": "ipython3",
   "version": "3.12.5"
  }
 },
 "nbformat": 4,
 "nbformat_minor": 2
}
